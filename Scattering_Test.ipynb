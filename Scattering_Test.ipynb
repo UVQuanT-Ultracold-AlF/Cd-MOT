{
 "cells": [
  {
   "cell_type": "code",
   "execution_count": 3,
   "metadata": {},
   "outputs": [
    {
     "name": "stdout",
     "output_type": "stream",
     "text": [
      "1.5915494309189534e-08\n",
      "3.6207749553406186e-06\n",
      "2.275\n",
      "142942465.73833558\n",
      "1.0\n",
      "1.0\n"
     ]
    }
   ],
   "source": [
    "import pylcp\n",
    "import numpy as np\n",
    "from matplotlib import pyplot as plt\n",
    "from scipy import constants as const\n",
    "from sympy.physics.wigner import wigner_3j, wigner_6j, wigner_9j\n",
    "import time\n",
    "import pathos\n",
    "from sympy import Symbol\n",
    "import numbers\n",
    "gamma = 2*np.pi*10e6 # Hz\n",
    "k = 2*np.pi/227.5e-9 # m^-1\n",
    "\n",
    "t_unit = 1/gamma\n",
    "#t_unit = 1e-1\n",
    "\n",
    "m_unit = 1/k\n",
    "#m_unit = 1e-9\n",
    "\n",
    "velocity_unit = m_unit/t_unit\n",
    "accel_unit = m_unit/t_unit**2\n",
    "Hz_unit = 1/t_unit\n",
    "Js_unit = const.hbar # kg m^2/s\n",
    "mass_unit = Js_unit*t_unit/m_unit**2\n",
    "HzperT_unit = const.value(\"Bohr magneton\")/(Js_unit)\n",
    "T_unit = Hz_unit/HzperT_unit\n",
    "amu_unit = mass_unit/1.66e-27\n",
    "cm_unit = m_unit/1e-2\n",
    "F_unit = mass_unit*m_unit/t_unit**2\n",
    "I_sat = (np.pi*const.h*const.c*gamma)/(3*227.5e-9**3) # W/m^2\n",
    "print(t_unit)\n",
    "print(cm_unit)\n",
    "print(velocity_unit)\n",
    "print(accel_unit)\n",
    "ksim=k*m_unit\n",
    "gammasim=gamma/Hz_unit\n",
    "print(ksim)\n",
    "print(gammasim)\n",
    "# (F1, F) IAl = 5/2, IF = 1/2, F1 = J + IAl, F = F1 + IF\n",
    "labels = [(3/2,1),(3/2,2),(5/2,2),(5/2,3),(7/2,3),(7/2,4)]\n",
    "full_labels = np.concatenate([[(i[0], i[1], j) for j in np.arange(-i[1],i[1]+1,1)] for i in labels])\n",
    "obe_kwargs = dict(itermax=10, rel=1e-6, abs=(1000*(46*1.66e-27)/(F_unit))**2, #deltat_func = lambda r, v : 1/gammasim+0*(1/gammasim if ksim/abs(v[0]) < 1/gammasim else 2*np.pi/ksim/abs(v[0])), deltat_r=np.inf,\n",
    "                  deltat_tmax = 500/gammasim, deltat_v=250/ksim,\n",
    "                  Npts=25001, debug = False, rtol=1e-4, reset_pos = False,\n",
    "                  atol=np.concatenate(([1e-4]*72*72,[1/velocity_unit,1/velocity_unit,1/velocity_unit,1e-2/cm_unit,1e-2/cm_unit,1e-2/cm_unit])))"
   ]
  },
  {
   "cell_type": "code",
   "execution_count": 41,
   "metadata": {},
   "outputs": [],
   "source": [
    "Hg, Bgq = pylcp.hamiltonians.singleF(F=1, gF=0, muB=1)\n",
    "He, Beq = pylcp.hamiltonians.singleF(F=0, gF=0, muB=1)\n",
    "dijq = pylcp.hamiltonians.dqij_two_bare_hyperfine(1, 0)\n",
    "hamiltonian = pylcp.hamiltonian(Hg, He, Bgq, Beq, dijq, mass=1, k=ksim, gamma=gammasim, muB=1)"
   ]
  },
  {
   "cell_type": "code",
   "execution_count": 69,
   "metadata": {},
   "outputs": [],
   "source": [
    "def lasers(det):\n",
    "    return pylcp.laserBeams([{'kvec':np.array([1., 0., 0.]), 'pol':np.array([0,np.sqrt(2/3),np.sqrt(1/3)]), 'pol_coord':'cartesian', 'delta':-0.5*det/Hz_unit, 's':1},\n",
    "                             {'kvec':np.array([1., 0., 0.]), 'pol':np.array([0,0,1]), 'pol_coord':'cartesian', 'delta':0.5*det/Hz_unit, 's':0}], beam_type=pylcp.infinitePlaneWaveBeam)"
   ]
  },
  {
   "cell_type": "code",
   "execution_count": 76,
   "metadata": {},
   "outputs": [],
   "source": [
    "no_mag_field = pylcp.magField(lambda R, t : np.array([0,0,HzperT_unit*np.cos(2*np.pi*R[2]*m_unit*1000)/Hz_unit]))"
   ]
  },
  {
   "cell_type": "code",
   "execution_count": 74,
   "metadata": {},
   "outputs": [],
   "source": [
    "obe = pylcp.obe(lasers(0),no_mag_field,hamiltonian)"
   ]
  },
  {
   "cell_type": "code",
   "execution_count": 77,
   "metadata": {},
   "outputs": [
    {
     "name": "stdout",
     "output_type": "stream",
     "text": [
      "Completed in 0.04 s.                                              \n",
      "Completed in 0.04 s.                                              \n",
      "Completed in 0.04 s.                                              \n",
      "Completed in 0.04 s.                                              \n",
      "Completed in 0.04 s.                                              \n",
      "Completed in 0.04 s.                                              \n",
      "Completed in 0.04 s.                                              \n",
      "Completed in 0.05 s.                                              \n",
      "Completed in 0.04 s.                                              \n",
      "Completed in 0.04 s.                                              \n",
      "Completed in 0.04 s.                                              \n",
      "Completed in 0.04 s.                                              \n",
      "Completed in 0.04 s.                                              \n",
      "Completed in 0.04 s.                                              \n",
      "Completed in 0.05 s.                                              \n",
      "Completed in 0.04 s.                                              \n",
      "Completed in 0.04 s.                                              \n",
      "Completed in 0.04 s.                                              \n",
      "Completed in 0.04 s.                                              \n",
      "Completed in 0.04 s.                                              \n",
      "Completed in 0.04 s.                                              \n",
      "Completed in 0.04 s.                                              \n",
      "Completed in 0.06 s.                                              \n",
      "Completed in 0.04 s.                                              \n",
      "Completed in 0.03 s.                                              \n",
      "Completed in 0.04 s.                                              \n",
      "Completed in 0.04 s.                                              \n",
      "Completed in 0.04 s.                                              \n",
      "Completed in 0.04 s.                                              \n",
      "Completed in 0.04 s.                                              \n",
      "Completed in 0.04 s.                                              \n",
      "Completed in 0.04 s.                                              \n",
      "Completed in 0.04 s.                                              \n",
      "Completed in 0.04 s.                                              \n",
      "Completed in 0.04 s.                                              \n",
      "Completed in 0.04 s.                                              \n",
      "Completed in 0.04 s.                                              \n",
      "Completed in 0.04 s.                                              \n",
      "Completed in 0.04 s.                                              \n",
      "Completed in 0.04 s.                                              \n",
      "Completed in 0.04 s.                                              \n",
      "Completed in 0.04 s.                                              \n",
      "Completed in 0.04 s.                                              \n",
      "Completed in 0.05 s.                                              \n",
      "Completed in 0.04 s.                                              \n",
      "Completed in 0.04 s.                                              \n",
      "Completed in 0.04 s.                                              \n",
      "Completed in 0.04 s.                                              \n",
      "Completed in 0.04 s.                                              \n",
      "Completed in 0.04 s.                                              \n",
      "Completed in 0.04 s.                                              \n"
     ]
    },
    {
     "data": {
      "image/png": "[encoded data removed]",
      "text/plain": [
       "<Figure size 640x480 with 2 Axes>"
      ]
     },
     "metadata": {},
     "output_type": "display_data"
    }
   ],
   "source": [
    "fig, (ax, ax2) = plt.subplots(1,2)\n",
    "sols = []\n",
    "dets = np.linspace(0,5,51)\n",
    "for det in dets:\n",
    "    obe = pylcp.obe(lasers(0),no_mag_field,hamiltonian)\n",
    "    obe.set_initial_position_and_velocity(np.array([0,0,0]),np.array([0,0,det/velocity_unit]))\n",
    "    obe.set_initial_rho_from_populations(np.concatenate(([1/3]*3,[0])))\n",
    "    obe.evolve_density([0,200/gammasim],\n",
    "                    rtol=1e-6,\n",
    "                    atol=np.concatenate(([1e-6]*4*4,[1/velocity_unit,1/velocity_unit,1/velocity_unit,1e-2/cm_unit,1e-2/cm_unit,1e-2/cm_unit])),\n",
    "                    method=\"RK23\",\n",
    "                    progress_bar=True);\n",
    "    ax.plot(obe.sol.t, np.diagonal(obe.sol.rho)[:,-1], label=f\"det={det}\")\n",
    "    sols.append(np.diagonal(obe.sol.rho)[-1,-1])\n",
    "# ax.legend()\n",
    "ax.grid()\n",
    "ax.set_xlabel(\"t [1/gamma]\")\n",
    "ax.set_ylabel(\"$P_e$\")\n",
    "ax2.plot(dets,sols)\n",
    "ax2.grid()"
   ]
  },
  {
   "cell_type": "code",
   "execution_count": null,
   "metadata": {},
   "outputs": [],
   "source": []
  }
 ],
 "metadata": {
  "kernelspec": {
   "display_name": "base",
   "language": "python",
   "name": "python3"
  },
  "language_info": {
   "codemirror_mode": {
    "name": "ipython",
    "version": 3
   },
   "file_extension": ".py",
   "mimetype": "text/x-python",
   "name": "python",
   "nbconvert_exporter": "python",
   "pygments_lexer": "ipython3",
   "version": "3.9.13 (main, Aug 25 2022, 23:51:50) [MSC v.1916 64 bit (AMD64)]"
  },
  "orig_nbformat": 4,
  "vscode": {
   "interpreter": {
    "hash": "fb8b51e2fe4f2020b7e8532e39ffb5e71032207cdaec5b0ba3a5cea38b0b4195"
   }
  }
 },
 "nbformat": 4,
 "nbformat_minor": 2
}
