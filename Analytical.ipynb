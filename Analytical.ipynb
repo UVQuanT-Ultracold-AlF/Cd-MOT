{
 "cells": [
  {
   "cell_type": "markdown",
   "id": "b5e0eca3",
   "metadata": {},
   "source": [
    "## Analytical solution for the magnet configuration"
   ]
  },
  {
   "cell_type": "code",
   "execution_count": 6,
   "id": "1b5a3ced",
   "metadata": {},
   "outputs": [],
   "source": [
    "#imports\n",
    "import numpy as np\n",
    "from scipy import special as scp\n",
    "from math import factorial as factorial"
   ]
  },
  {
   "cell_type": "code",
   "execution_count": 7,
   "id": "39a77f56",
   "metadata": {},
   "outputs": [],
   "source": [
    "class Magnets:\n",
    "    \"\"\"\n",
    "    A class to simulate the cyllindrical magnets used in the Cd MOT.\n",
    "    \n",
    "    Attributes (all floats)\n",
    "    ----------\n",
    "    \n",
    "    h: Height of the magnets in the z-direction (the beam direction) in cm\n",
    "    R_out: outer radius of the magnets used in cm\n",
    "    R_in: inner radius of the magnets used in cm\n",
    "    M: magnetisation\n",
    "    \"\"\"\n",
    "    def __init__(self, h=1., R_out=2., R_in=1.5, M=1):\n",
    "        self.h = h\n",
    "        self.R_out = R_out\n",
    "        self.R_in = R_in\n",
    "        self.M = M\n",
    "        \n",
    "    \n",
    "    def ComputeField(self, r=10, z=10, n=10, gran=100): #n needs to be float for numpy to correctly use it for negative powers (floating point precision may not be great)\n",
    "        \"\"\"\n",
    "        Computes the field for the given spatial range to a given accuracy.\n",
    "        \n",
    "        Attributes\n",
    "        ----------\n",
    "        r: range of coordinate r in cm (integer)\n",
    "        z: range of coordinate z in cm (integer)\n",
    "        n: number of terms in approximation (integer)\n",
    "        gran: granularity - number of divisions of the r and z coordinates\n",
    "        \"\"\"\n",
    "        if type(r) != int or type(z) != int:\n",
    "            raise Exception(\"r and z can only be integers\") # change in the future, maybe np arange\n",
    "        r = np.linspace(0,r,gran) #create a list of r and z coordinates\n",
    "        z = np.linspace(0,z,gran)\n",
    "        n = np.arange(n) \n",
    "        self.n = n\n",
    "        \n",
    "        aMinus_Rlist = [] #for each r calculate the list of z-dependent a- coefficients \n",
    "        aPlus_Rlist = [] #and a+\n",
    "        \n",
    "        for Zcoord in z:\n",
    "            aMinus_Rlist.append((-self.R_out**2)/(r**2+(self.h+Zcoord)**2))\n",
    "            aPlus_Rlist.append((-self.R_out**2)/(r**2-(self.h+Zcoord)**2))\n",
    "        \n",
    "        potential_terms = [] #list of 2d lists (potential values on a component grid) for each term \n",
    "        for i in n:\n",
    "            b = 1 + i\n",
    "            x = 0.5 - (2*i)\n",
    "            Rpotentials = [] #again a list of z-dependent values for each r\n",
    "            for j in range(len(aMinus_Rlist)): #len(aMinus_Rlist) = gran ? minor speed improvement \n",
    "                #n-dependent term in the potential:\n",
    "                scaling = (scp.factorial2(4*i-1)*((-1)**(-float(i)))*(r[j]**(2*i)))/((2**(2*i))*((factorial(i))**2))\n",
    "                #calculate beta coefficients:\n",
    "                betaMinus = ((r[j]**2+(self.h+z)**2)**(0.5-i)) * scp.betainc(aMinus_Rlist[j],b,x) #z and Rlist[j] should be done pairwise\n",
    "                betaPlus = ((r[j]**2+(self.h-z)**2)**(0.5-i)) * scp.betainc(aPlus_Rlist[j],b,x)\n",
    "                #calculate the z-dependent potential values list:\n",
    "                potentials = 0.5*self.M * scaling * (betaPlus-betaMinus)\n",
    "                Rpotentials.append(potentials) #append the potential values to potentials list\n",
    "            print(len(Rpotentials))\n",
    "            print(len(Rpotentials[0]))\n",
    "            potential_terms.append(np.array(Rpotentials)) #append the potentials list to the master list\n",
    "            print(len(potential_terms))\n",
    "            #np.array structure neccessary for element-wise addition later on\n",
    "        \n",
    "        self.potential_terms = sum(potential_terms) #sum the elements of potential_terms element-wise to get one 2d list\n",
    "        \n",
    "        #self.field = #use sympy for differentiation\n",
    "    \n",
    "    def ChangeMag(self, newMag):\n",
    "        self.M = newMag"
   ]
  },
  {
   "cell_type": "code",
   "execution_count": 8,
   "id": "42d085d4",
   "metadata": {},
   "outputs": [
    {
     "name": "stdout",
     "output_type": "stream",
     "text": [
      "[[10 10 10]\n",
      " [10 10 10]\n",
      " [10 10 10]]\n"
     ]
    }
   ],
   "source": [
    "a = np.array([[1,2,3],[4,5,6],[7,8,9]])\n",
    "b = np.array([[9,8,7],[6,5,4],[3,2,1]])\n",
    "li = [a,b]\n",
    "c = sum(li)\n",
    "print(c)"
   ]
  },
  {
   "cell_type": "code",
   "execution_count": 9,
   "id": "e67f76ee",
   "metadata": {},
   "outputs": [
    {
     "name": "stdout",
     "output_type": "stream",
     "text": [
      "<class 'numpy.ndarray'>\n"
     ]
    }
   ],
   "source": [
    "a = np.linspace(0,10,100)\n",
    "b = np.linspace(0,10,100)\n",
    "c = 2\n",
    "\n",
    "d = (c**2+a)*b\n",
    "print(type(d)) #same length "
   ]
  },
  {
   "cell_type": "code",
   "execution_count": 10,
   "id": "0ca1c848",
   "metadata": {},
   "outputs": [
    {
     "name": "stdout",
     "output_type": "stream",
     "text": [
      "100\n",
      "100\n",
      "1\n",
      "100\n",
      "100\n",
      "2\n",
      "100\n",
      "100\n",
      "3\n",
      "100\n",
      "100\n",
      "4\n",
      "100\n",
      "100\n",
      "5\n",
      "100\n",
      "100\n",
      "6\n",
      "100\n",
      "100\n",
      "7\n",
      "100\n",
      "100\n",
      "8\n",
      "100\n",
      "100\n",
      "9\n",
      "100\n",
      "100\n",
      "10\n"
     ]
    },
    {
     "data": {
      "text/plain": [
       "array([[nan, nan, nan, ..., nan, nan, nan],\n",
       "       [nan, nan, nan, ..., nan, nan, nan],\n",
       "       [nan, nan, nan, ..., nan, nan, nan],\n",
       "       ...,\n",
       "       [nan, nan, nan, ..., nan, nan, nan],\n",
       "       [nan, nan, nan, ..., nan, nan, nan],\n",
       "       [nan, nan, nan, ..., nan, nan, nan]])"
      ]
     },
     "execution_count": 10,
     "metadata": {},
     "output_type": "execute_result"
    }
   ],
   "source": [
    "magnet2 = Magnets()\n",
    "magnet2.ComputeField()\n",
    "magnet2.potential_terms"
   ]
  },
  {
   "cell_type": "code",
   "execution_count": 64,
   "id": "f06b3ab8",
   "metadata": {},
   "outputs": [
    {
     "name": "stdout",
     "output_type": "stream",
     "text": [
      "5.0\n"
     ]
    }
   ],
   "source": [
    "a = 5\n",
    "print(float(a))"
   ]
  },
  {
   "cell_type": "code",
   "execution_count": null,
   "id": "c3918448",
   "metadata": {},
   "outputs": [],
   "source": []
  }
 ],
 "metadata": {
  "kernelspec": {
   "display_name": "Python 3",
   "language": "python",
   "name": "python3"
  },
  "language_info": {
   "codemirror_mode": {
    "name": "ipython",
    "version": 3
   },
   "file_extension": ".py",
   "mimetype": "text/x-python",
   "name": "python",
   "nbconvert_exporter": "python",
   "pygments_lexer": "ipython3",
   "version": "3.8.10"
  }
 },
 "nbformat": 4,
 "nbformat_minor": 5
}
