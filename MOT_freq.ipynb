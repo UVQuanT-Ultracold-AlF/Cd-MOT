{
 "cells": [
  {
   "cell_type": "code",
   "execution_count": 319,
   "metadata": {},
   "outputs": [],
   "source": [
    "import ipynb\n",
    "import numpy as np\n",
    "import matplotlib.pyplot as plt\n",
    "import pylcp\n",
    "import scipy.constants as consts\n",
    "import lmfit\n",
    "from pylcp.common import progressBar\n",
    "import ast\n",
    "import csv\n",
    "import pickle\n",
    "from scipy.optimize import bisect\n",
    "from tqdm import tqdm\n",
    "from ipynb.fs.full.MagnetsInterpolation import ComsolMagCylindricalInterpolation_au as mi\n",
    "import inspect\n",
    "from matplotlib.ticker import MultipleLocator\n",
    "\n",
    "plt.ion()\n",
    "\n",
    "loadpath = \"./csv/\"\n",
    "savepath = \"./images/\"\n",
    "\n",
    "# #laser parameters\n",
    "# laser_det = -2\n",
    "# ham_det = 0\n",
    "# #laser power in Watts\n",
    "# laser_power = 0.1\n",
    "# #beam intensity 1/e^2 radius in cm\n",
    "# beamWidth = 0.4\n",
    "# #saturation intensity in W/cm^2\n",
    "# Isat = 1\n",
    "# s = laser_power/(Isat*np.pi*beamWidth**2)\n",
    "\n",
    "import matplotlib as mpl\n",
    "\n",
    "rcparams = {\n",
    "# 'axes.titlesize'    : 18,\n",
    "# 'axes.labelsize'    : 16,\n",
    "# 'xtick.labelsize'   : 12,\n",
    "# 'ytick.labelsize'   : 12,\n",
    "# 'legend.fontsize'   : 12,\n",
    "'font.size'         : 20\n",
    "}\n",
    "for e in rcparams.keys():\n",
    "    mpl.rcParams[e] = rcparams[e]\n",
    "\n",
    "\n",
    "hbar = consts.hbar\n",
    "h = consts.h\n",
    "\n",
    "\n",
    "k = 43692.384 # cm^-1\n",
    "Gamma = 2*np.pi*99.7e6\n",
    "hertz_unit = Gamma\n",
    "# hertz_unit = 91e6\n",
    "time_unit = 1/hertz_unit\n",
    "m_unit = 1e-2/k\n",
    "cm_unit = 100*m_unit\n",
    "# time_unit = k*1e-2/hertz_unit # Needed due to the two ways units are measured\n",
    "\n",
    "amu_const = consts.value('atomic mass constant')\n",
    "velocity_unit = (m_unit/time_unit)\n",
    "a_unit = (m_unit/time_unit**2)\n",
    "\n",
    "E_unit = hbar/time_unit\n",
    "F_unit = E_unit/m_unit\n",
    "mass_unit = F_unit/a_unit\n",
    "\n",
    "amu_unit = mass_unit/amu_const\n",
    "Tesla_unit = hertz_unit/consts.value('Bohr magneton in Hz/T')\n",
    "\n",
    "#scaled mass as described in the examples, for 114 Cd\n",
    "# scaledMass = 4.87e-3\n",
    "# print(scaledMass)\n",
    "# scaledMass = 113.9*amu_const*hertz_unit/(hbar*k**2)\n",
    "# mass_unit = velocity_unit/time_unit/(h*k*hertz_unit)\n",
    "# print(scaledMass)\n",
    "# amu_unit = 113.90336500/scaledMass\n",
    "# amu_unit = 1/(amu_const*hertz_unit/(hbar*k**2))\n",
    "\n",
    "# laser parameters from Simon\n",
    "slower_beam_width = 0.5/2/cm_unit # cm\n",
    "slower_I = 0.04 #0.3 # W/cm^2\n",
    "slower_detuning = 0 # Placeholder\n",
    "MOT_detuning = -1.45*100e6/hertz_unit\n",
    "MOT_beam_width = 0.4/2/cm_unit # cm\n",
    "Isat = 1.1\n",
    "slower_s = 2*slower_I/(np.pi*(slower_beam_width**2))/Isat\n",
    "# slower_s = 0.3\n",
    "\n",
    "# read in initial vel_dist\n",
    "vel_dist_raw_data = np.loadtxt(\"./csv/ChirpedSlowing_112_initialDistribution.dat\")\n",
    "vel_dist_raw_data = vel_dist_raw_data[vel_dist_raw_data[:,1].argsort()]\n",
    "\n",
    "vel_dist_data = np.array([[i/velocity_unit,np.sum(vel_dist_raw_data[:,2], where=vel_dist_raw_data[:,1] == i)] for i in np.unique(vel_dist_raw_data[:,1])])\n",
    "vel_dist = lambda x : np.interp(x, *(vel_dist_data.T))\n",
    "\n",
    "# Some parameters for the MOT\n",
    "# Mass taken from IAEA\n",
    "mass = {106 : 105.9064598/amu_unit, 108 : 107.9041836/amu_unit, 110 : 109.9030075/amu_unit, 111 : 110.9041838/amu_unit, 112 : 111.90276390/amu_unit, 113 : 112.90440811/amu_unit, 114 : 113.90336500/amu_unit, 116 : 115.90476323/amu_unit}\n",
    "abundance_data = {106 : 0.0125, 108 : 0.0089, 110 : 0.1249, 111 : 0.1280, 112 : 0.2413, 113 : 0.1222, 114 : 0.2873, 116 : 0.0749}\n",
    "\n",
    "# Take isotope shift data from here: https://arxiv.org/pdf/2210.11425.pdf [Table II, this work]\n",
    "isotope_shifts = {106 : 1818.1e6/hertz_unit, 108 : 1336.5e6/hertz_unit, 110 : 865e6/hertz_unit, 111 : 805.0e6/hertz_unit, 112 : 407.5e6/hertz_unit, 113 : 344.9e6/hertz_unit, 114 : 0e6/hertz_unit, 116 : -316.1e6/hertz_unit}\n",
    "isotope_shift_hyperfine = {111 : (899.2e6 - 616.5e6)/hertz_unit, 113 : (443.4e6 - 147.8e6)/hertz_unit}\n",
    "\n",
    "# Hamiltonians\n",
    "ham_det = 0\n",
    "\n",
    "def gen_Boson_Hamiltonian(isotope = 114):\n",
    "    Hg, Bgq = pylcp.hamiltonians.singleF(F=0, gF=0, muB=1)\n",
    "    He, Beq = pylcp.hamiltonians.singleF(F=1, gF=1, muB=1)\n",
    "    dijq = pylcp.hamiltonians.dqij_two_bare_hyperfine(0, 1)\n",
    "    return pylcp.hamiltonian(Hg, He + (isotope_shifts[isotope] - ham_det)*np.eye(3), Bgq, Beq, dijq,mass=mass[isotope],k=(k*cm_unit), gamma=(Gamma*time_unit),muB=1)\n",
    "\n",
    "def gen_Fermion_Hamiltonian(isotope = 111):\n",
    "    #Hamiltonian for F=1/2 -> F = 1/2,3/2 \n",
    "    HgFermion, BgqFermion = pylcp.hamiltonians.hyperfine_coupled(J=0, I=1/2, gJ=0, gI=0, Ahfs=0, Bhfs=0, Chfs=0, muB=1)\n",
    "    # HeFermion, BeqFermion = pylcp.hamiltonians.hyperfine_coupled(J=1, I=1/2, gJ=1, gI=0, Ahfs=2.2, Bhfs=0, Chfs=0, muB=1)\n",
    "    Ahfs = 2*isotope_shift_hyperfine[isotope]/3\n",
    "    HeFermion, BeqFermion = pylcp.hamiltonians.hyperfine_coupled(J=1, I=1/2, gJ=1, gI=0, Ahfs=Ahfs, Bhfs=0, Chfs=0, muB=1)\n",
    "    dijqFermion = pylcp.hamiltonians.dqij_two_hyperfine_manifolds(J=0, Jp=1, I=0.5)\n",
    "    return pylcp.hamiltonian(HgFermion, HeFermion + (isotope_shifts[isotope] - ham_det)*np.eye(6), BgqFermion, BeqFermion, dijqFermion,mass=mass[isotope],k=1, gamma=1,muB=1)\n",
    "\n",
    "Hamiltonians = {}\n",
    "# Generate all Hamiltonians\n",
    "for key in mass.keys():\n",
    "    if (key in isotope_shift_hyperfine.keys()):\n",
    "        Hamiltonians[key] = gen_Fermion_Hamiltonian(key)\n",
    "        continue\n",
    "    Hamiltonians[key] = gen_Boson_Hamiltonian(key)\n",
    "\n",
    "permMagnets=mi('./csv/2D_Br_updated_30mmbore.csv', './csv/2D_Bz_updated_30mmbore.csv',Tesla_unit,cm_unit,-1)\n",
    "permMagnetsStrong=mi('./csv/2D_Br.csv', './csv/2D_Bz.csv',Tesla_unit,cm_unit,-1)\n",
    "permMagnetsPylcp = pylcp.magField(permMagnets.fieldCartesian)\n",
    "permMagnetsPylcpStrong = pylcp.magField(permMagnetsStrong.fieldCartesian)\n",
    "\n",
    "magnet_data = np.loadtxt(\"./csv/RingMagnet_BzProfile.csv\",delimiter=\"\\t\")\n",
    "def get_interpolator(pos):\n",
    "    def interpolate_magnet(R):\n",
    "        nonlocal pos\n",
    "        R = R - pos\n",
    "        x = abs(R[0])*cm_unit\n",
    "        prevpos = None\n",
    "        prevB = None\n",
    "        \n",
    "        for p, Bz in magnet_data:\n",
    "            if(x < p):\n",
    "                break\n",
    "            prevpos = p\n",
    "            prevB = Bz\n",
    "        else:\n",
    "            return [0,0,0]\n",
    "\n",
    "        if prevpos is None:\n",
    "            return [0,0,0]\n",
    "\n",
    "        B = prevB + (x - prevpos)*(Bz - prevB)/(p - prevpos)\n",
    "        \n",
    "        B = B*10**(-4)/Tesla_unit\n",
    "\n",
    "        return [B,0,0]\n",
    "    return interpolate_magnet\n",
    "slower_magnet = pylcp.magField(get_interpolator([0/cm_unit,0,0]))"
   ]
  },
  {
   "cell_type": "code",
   "execution_count": 320,
   "metadata": {},
   "outputs": [],
   "source": [
    "det_MOT = -175/hertz_unit + isotope_shifts[112]\n",
    "MOT_s = 1.5/Isat/6\n",
    "MOT_s_total = 3/Isat\n",
    "# MOT_s_total = 2/Isat\n",
    "# MOT_s_total = 2.2/Isat\n",
    "MOT_s_z = MOT_s_total*0.2/(0.67*2.6 + 0.20*1.5)\n",
    "MOT_s_xy = MOT_s_total*0.67/(0.67*2.6 + 0.20*1.5)\n",
    "\n",
    "MOT_s_xy = MOT_s\n",
    "MOT_s_z = MOT_s\n",
    "\n",
    "MOT_beams = pylcp.laserBeams([\n",
    "        {'kvec':np.array([-1/np.sqrt(2), -1/np.sqrt(2), 0.]), 'pol':-1, 'delta':det_MOT, 's':MOT_s_xy,'wb':MOT_beam_width},\n",
    "        {'kvec':np.array([1/np.sqrt(2), 1/np.sqrt(2), 0.]), 'pol':-1, 'delta':det_MOT, 's':MOT_s_xy,'wb':MOT_beam_width},\n",
    "        {'kvec':np.array([1/np.sqrt(2), -1/np.sqrt(2), 0.]), 'pol':-1, 'delta':det_MOT, 's':MOT_s_xy,'wb':MOT_beam_width},\n",
    "        {'kvec':np.array([-1/np.sqrt(2), 1/np.sqrt(2), 0.]), 'pol':-1, 'delta':det_MOT, 's':MOT_s_xy,'wb':MOT_beam_width},\n",
    "        {'kvec':np.array([0., 0.,  1.]), 'pol':+1, 'delta':det_MOT, 's':MOT_s_z,'wb':MOT_beam_width},\n",
    "        {'kvec':np.array([0., 0., -1.]), 'pol':+1, 'delta':det_MOT, 's':MOT_s_z,'wb':MOT_beam_width}\n",
    "    ], beam_type=pylcp.gaussianBeam)"
   ]
  },
  {
   "cell_type": "code",
   "execution_count": 321,
   "metadata": {},
   "outputs": [
    {
     "name": "stdout",
     "output_type": "stream",
     "text": [
      "1\r"
     ]
    },
    {
     "ename": "ValueError",
     "evalue": "Values in `t_eval` are not within `t_span`.",
     "output_type": "error",
     "traceback": [
      "\u001b[1;31m---------------------------------------------------------------------------\u001b[0m",
      "\u001b[1;31mValueError\u001b[0m                                Traceback (most recent call last)",
      "\u001b[1;32m~\\AppData\\Local\\Temp\\ipykernel_22336\\1892150432.py\u001b[0m in \u001b[0;36m<module>\u001b[1;34m\u001b[0m\n\u001b[0;32m     19\u001b[0m                       max_step=5e-3/time_unit,progress_bar=True,random_recoil=False, atol = atol)\n\u001b[0;32m     20\u001b[0m \u001b[1;33m\u001b[0m\u001b[0m\n\u001b[1;32m---> 21\u001b[1;33m \u001b[0mr\u001b[0m \u001b[1;33m=\u001b[0m \u001b[0mrun\u001b[0m\u001b[1;33m(\u001b[0m\u001b[1;33m)\u001b[0m\u001b[1;33m\u001b[0m\u001b[1;33m\u001b[0m\u001b[0m\n\u001b[0m\u001b[0;32m     22\u001b[0m \u001b[1;33m\u001b[0m\u001b[0m\n\u001b[0;32m     23\u001b[0m \u001b[0mr_avg\u001b[0m \u001b[1;33m=\u001b[0m \u001b[0mnp\u001b[0m\u001b[1;33m.\u001b[0m\u001b[0mmean\u001b[0m\u001b[1;33m(\u001b[0m\u001b[0mnp\u001b[0m\u001b[1;33m.\u001b[0m\u001b[0marray\u001b[0m\u001b[1;33m(\u001b[0m\u001b[1;33m[\u001b[0m\u001b[0mr\u001b[0m\u001b[1;33m.\u001b[0m\u001b[0mr\u001b[0m\u001b[1;33m]\u001b[0m\u001b[1;33m)\u001b[0m\u001b[1;33m,\u001b[0m \u001b[0maxis\u001b[0m\u001b[1;33m=\u001b[0m \u001b[1;36m0\u001b[0m\u001b[1;33m)\u001b[0m\u001b[1;33m\u001b[0m\u001b[1;33m\u001b[0m\u001b[0m\n",
      "\u001b[1;32m~\\AppData\\Local\\Temp\\ipykernel_22336\\1892150432.py\u001b[0m in \u001b[0;36mrun\u001b[1;34m()\u001b[0m\n\u001b[0;32m     16\u001b[0m     \u001b[1;33m[\u001b[0m\u001b[0matol\u001b[0m\u001b[1;33m.\u001b[0m\u001b[0mappend\u001b[0m\u001b[1;33m(\u001b[0m\u001b[1;36m10\u001b[0m\u001b[1;33m/\u001b[0m\u001b[0mcm_unit\u001b[0m\u001b[1;33m)\u001b[0m \u001b[1;32mfor\u001b[0m \u001b[0m_\u001b[0m \u001b[1;32min\u001b[0m \u001b[0mrange\u001b[0m\u001b[1;33m(\u001b[0m\u001b[1;36m3\u001b[0m\u001b[1;33m)\u001b[0m\u001b[1;33m]\u001b[0m\u001b[1;33m\u001b[0m\u001b[1;33m\u001b[0m\u001b[0m\n\u001b[0;32m     17\u001b[0m     \u001b[1;33m[\u001b[0m\u001b[0matol\u001b[0m\u001b[1;33m.\u001b[0m\u001b[0mappend\u001b[0m\u001b[1;33m(\u001b[0m\u001b[1;36m10\u001b[0m\u001b[1;33m/\u001b[0m\u001b[0mvelocity_unit\u001b[0m\u001b[1;33m)\u001b[0m \u001b[1;32mfor\u001b[0m \u001b[0m_\u001b[0m \u001b[1;32min\u001b[0m \u001b[0mrange\u001b[0m\u001b[1;33m(\u001b[0m\u001b[1;36m3\u001b[0m\u001b[1;33m)\u001b[0m\u001b[1;33m]\u001b[0m\u001b[1;33m\u001b[0m\u001b[1;33m\u001b[0m\u001b[0m\n\u001b[1;32m---> 18\u001b[1;33m     return eq.evolve_motion([0., 3e-3/time_unit], t_eval = t_eval,\n\u001b[0m\u001b[0;32m     19\u001b[0m                       max_step=5e-3/time_unit,progress_bar=True,random_recoil=False, atol = atol)\n\u001b[0;32m     20\u001b[0m \u001b[1;33m\u001b[0m\u001b[0m\n",
      "\u001b[1;32mc:\\Users\\LP618\\Anaconda3\\lib\\site-packages\\pylcp-1.0.2-py3.9.egg\\pylcp\\rateeq.py\u001b[0m in \u001b[0;36mevolve_motion\u001b[1;34m(self, t_span, freeze_axis, random_recoil, random_force, max_scatter_probability, progress_bar, record_force, rng, **kwargs)\u001b[0m\n\u001b[0;32m    712\u001b[0m                                         **kwargs)\n\u001b[0;32m    713\u001b[0m         \u001b[1;32melse\u001b[0m\u001b[1;33m:\u001b[0m\u001b[1;33m\u001b[0m\u001b[1;33m\u001b[0m\u001b[0m\n\u001b[1;32m--> 714\u001b[1;33m             \u001b[0mself\u001b[0m\u001b[1;33m.\u001b[0m\u001b[0msol\u001b[0m \u001b[1;33m=\u001b[0m \u001b[0msolve_ivp\u001b[0m\u001b[1;33m(\u001b[0m\u001b[0mmotion\u001b[0m\u001b[1;33m,\u001b[0m \u001b[0mt_span\u001b[0m\u001b[1;33m,\u001b[0m \u001b[0my0\u001b[0m\u001b[1;33m,\u001b[0m \u001b[1;33m**\u001b[0m\u001b[0mkwargs\u001b[0m\u001b[1;33m)\u001b[0m\u001b[1;33m\u001b[0m\u001b[1;33m\u001b[0m\u001b[0m\n\u001b[0m\u001b[0;32m    715\u001b[0m \u001b[1;33m\u001b[0m\u001b[0m\n\u001b[0;32m    716\u001b[0m         \u001b[1;32mif\u001b[0m \u001b[0mprogress_bar\u001b[0m\u001b[1;33m:\u001b[0m\u001b[1;33m\u001b[0m\u001b[1;33m\u001b[0m\u001b[0m\n",
      "\u001b[1;32mc:\\Users\\LP618\\Anaconda3\\lib\\site-packages\\scipy\\integrate\\_ivp\\ivp.py\u001b[0m in \u001b[0;36msolve_ivp\u001b[1;34m(fun, t_span, y0, method, t_eval, dense_output, events, vectorized, args, **options)\u001b[0m\n\u001b[0;32m    536\u001b[0m \u001b[1;33m\u001b[0m\u001b[0m\n\u001b[0;32m    537\u001b[0m         \u001b[1;32mif\u001b[0m \u001b[0mnp\u001b[0m\u001b[1;33m.\u001b[0m\u001b[0many\u001b[0m\u001b[1;33m(\u001b[0m\u001b[0mt_eval\u001b[0m \u001b[1;33m<\u001b[0m \u001b[0mmin\u001b[0m\u001b[1;33m(\u001b[0m\u001b[0mt0\u001b[0m\u001b[1;33m,\u001b[0m \u001b[0mtf\u001b[0m\u001b[1;33m)\u001b[0m\u001b[1;33m)\u001b[0m \u001b[1;32mor\u001b[0m \u001b[0mnp\u001b[0m\u001b[1;33m.\u001b[0m\u001b[0many\u001b[0m\u001b[1;33m(\u001b[0m\u001b[0mt_eval\u001b[0m \u001b[1;33m>\u001b[0m \u001b[0mmax\u001b[0m\u001b[1;33m(\u001b[0m\u001b[0mt0\u001b[0m\u001b[1;33m,\u001b[0m \u001b[0mtf\u001b[0m\u001b[1;33m)\u001b[0m\u001b[1;33m)\u001b[0m\u001b[1;33m:\u001b[0m\u001b[1;33m\u001b[0m\u001b[1;33m\u001b[0m\u001b[0m\n\u001b[1;32m--> 538\u001b[1;33m             \u001b[1;32mraise\u001b[0m \u001b[0mValueError\u001b[0m\u001b[1;33m(\u001b[0m\u001b[1;34m\"Values in `t_eval` are not within `t_span`.\"\u001b[0m\u001b[1;33m)\u001b[0m\u001b[1;33m\u001b[0m\u001b[1;33m\u001b[0m\u001b[0m\n\u001b[0m\u001b[0;32m    539\u001b[0m \u001b[1;33m\u001b[0m\u001b[0m\n\u001b[0;32m    540\u001b[0m         \u001b[0md\u001b[0m \u001b[1;33m=\u001b[0m \u001b[0mnp\u001b[0m\u001b[1;33m.\u001b[0m\u001b[0mdiff\u001b[0m\u001b[1;33m(\u001b[0m\u001b[0mt_eval\u001b[0m\u001b[1;33m)\u001b[0m\u001b[1;33m\u001b[0m\u001b[1;33m\u001b[0m\u001b[0m\n",
      "\u001b[1;31mValueError\u001b[0m: Values in `t_eval` are not within `t_span`."
     ]
    }
   ],
   "source": [
    "\n",
    "eq = pylcp.rateeq(MOT_beams,permMagnetsPylcp, Hamiltonians[112],include_mag_forces=False)\n",
    "\n",
    "i = 0\n",
    "t_eval = np.arange(0e-6/time_unit,5e-3/time_unit, 5e-4/time_unit)\n",
    "def run():\n",
    "    global i\n",
    "    i += 1\n",
    "    print(i,end='\\r')\n",
    "    atol = [1]*4\n",
    "    try:\n",
    "        eq.set_initial_pop(np.array([1,0,0,0]))\n",
    "    except ValueError:\n",
    "        eq.set_initial_pop(np.array([0.5,0.5,0,0,0,0,0,0]))\n",
    "        atol = [1e-2]*6\n",
    "    eq.set_initial_position_and_velocity(np.array([-0.02/cm_unit,0,0]),np.array([-4/velocity_unit,0/velocity_unit,-0/velocity_unit]))\n",
    "    [atol.append(10/cm_unit) for _ in range(3)]\n",
    "    [atol.append(10/velocity_unit) for _ in range(3)]\n",
    "    return eq.evolve_motion([0., 3e-3/time_unit], t_eval = t_eval,\n",
    "                      max_step=5e-3/time_unit,progress_bar=True,random_recoil=False, atol = atol)\n",
    "\n",
    "r = run()\n",
    "\n",
    "r_avg = np.mean(np.array([r.r]), axis= 0)"
   ]
  },
  {
   "cell_type": "code",
   "execution_count": 322,
   "metadata": {},
   "outputs": [
    {
     "ename": "AttributeError",
     "evalue": "'numpy.ndarray' object has no attribute 't'",
     "output_type": "error",
     "traceback": [
      "\u001b[1;31m---------------------------------------------------------------------------\u001b[0m",
      "\u001b[1;31mAttributeError\u001b[0m                            Traceback (most recent call last)",
      "\u001b[1;32m~\\AppData\\Local\\Temp\\ipykernel_22336\\353502984.py\u001b[0m in \u001b[0;36m<module>\u001b[1;34m\u001b[0m\n\u001b[0;32m      1\u001b[0m \u001b[0mplt\u001b[0m\u001b[1;33m.\u001b[0m\u001b[0mion\u001b[0m\u001b[1;33m(\u001b[0m\u001b[1;33m)\u001b[0m\u001b[1;33m\u001b[0m\u001b[1;33m\u001b[0m\u001b[0m\n\u001b[0;32m      2\u001b[0m \u001b[0mplt\u001b[0m\u001b[1;33m.\u001b[0m\u001b[0mfigure\u001b[0m\u001b[1;33m(\u001b[0m\u001b[1;33m)\u001b[0m\u001b[1;33m\u001b[0m\u001b[1;33m\u001b[0m\u001b[0m\n\u001b[1;32m----> 3\u001b[1;33m \u001b[0mplt\u001b[0m\u001b[1;33m.\u001b[0m\u001b[0mplot\u001b[0m\u001b[1;33m(\u001b[0m\u001b[0mr\u001b[0m\u001b[1;33m.\u001b[0m\u001b[0mt\u001b[0m\u001b[1;33m*\u001b[0m\u001b[0mtime_unit\u001b[0m\u001b[1;33m*\u001b[0m\u001b[1;36m1e3\u001b[0m\u001b[1;33m,\u001b[0m \u001b[0mr_avg\u001b[0m\u001b[1;33m[\u001b[0m\u001b[1;36m0\u001b[0m\u001b[1;33m]\u001b[0m\u001b[1;33m*\u001b[0m\u001b[0mcm_unit\u001b[0m\u001b[1;33m,\u001b[0m\u001b[1;34m'rx-'\u001b[0m\u001b[1;33m)\u001b[0m\u001b[1;33m\u001b[0m\u001b[1;33m\u001b[0m\u001b[0m\n\u001b[0m\u001b[0;32m      4\u001b[0m \u001b[0mplt\u001b[0m\u001b[1;33m.\u001b[0m\u001b[0mgrid\u001b[0m\u001b[1;33m(\u001b[0m\u001b[1;33m)\u001b[0m\u001b[1;33m\u001b[0m\u001b[1;33m\u001b[0m\u001b[0m\n\u001b[0;32m      5\u001b[0m \u001b[0mplt\u001b[0m\u001b[1;33m.\u001b[0m\u001b[0mshow\u001b[0m\u001b[1;33m(\u001b[0m\u001b[1;33m)\u001b[0m\u001b[1;33m\u001b[0m\u001b[1;33m\u001b[0m\u001b[0m\n",
      "\u001b[1;31mAttributeError\u001b[0m: 'numpy.ndarray' object has no attribute 't'"
     ]
    },
    {
     "data": {
      "text/plain": [
       "<Figure size 640x480 with 0 Axes>"
      ]
     },
     "metadata": {},
     "output_type": "display_data"
    }
   ],
   "source": [
    "plt.ion()\n",
    "plt.figure()\n",
    "plt.plot(r.t*time_unit*1e3, r_avg[0]*cm_unit,'rx-')\n",
    "plt.grid()\n",
    "plt.show()\n",
    "plt.figure()\n",
    "plt.plot(t_eval*time_unit*1e3, r_avg[1]*cm_unit,'gx-')\n",
    "plt.plot(t_eval*time_unit*1e3, r_avg[2]*10*cm_unit,'bx-')\n",
    "plt.grid()\n",
    "plt.show()"
   ]
  },
  {
   "cell_type": "code",
   "execution_count": 323,
   "metadata": {},
   "outputs": [
    {
     "name": "stdout",
     "output_type": "stream",
     "text": [
      "Completed in 10.04 s.                                               \n"
     ]
    }
   ],
   "source": [
    "dr = 0.1/cm_unit\n",
    "dv = 1/velocity_unit\n",
    "\n",
    "r = np.arange(-15.1/cm_unit, +15.1/cm_unit+dr, 2*dr)\n",
    "v = np.arange(0, 200/velocity_unit, 2*dv)\n",
    "\n",
    "R, V = np.meshgrid(r, v)\n",
    "\n",
    "def Slow_Beam(det_slower, *args, **kwargs):\n",
    "    # pol /= sum(map(lambda x : x*np.conj(x), pol))\n",
    "    return pylcp.laserBeams([\n",
    "        {'kvec':np.array([-1, 0., 0.]), 'pol': -1, 'delta':det_slower, 's':slower_s,'wb':slower_beam_width, 'pol_coord':'spherical'}\n",
    "    ], beam_type=pylcp.gaussianBeam)\n",
    "\n",
    "laserargs = {'det_slower' : -750e6/hertz_unit}\n",
    "eq = pylcp.rateeq(Slow_Beam(**laserargs),permMagnetsPylcp, Hamiltonians[114],include_mag_forces=True,)\n",
    "eq.generate_force_profile([R, np.zeros(R.shape), np.zeros(R.shape)],\n",
    "                           [V, np.zeros(V.shape), np.zeros(V.shape)],\n",
    "                           name='Frad', progress_bar=True)\n",
    "\n"
   ]
  },
  {
   "cell_type": "code",
   "execution_count": 324,
   "metadata": {},
   "outputs": [
    {
     "data": {
      "image/png": "[encoded data removed]",
      "text/plain": [
       "<Figure size 640x480 with 2 Axes>"
      ]
     },
     "metadata": {},
     "output_type": "display_data"
    }
   ],
   "source": [
    "\n",
    "fig, ax = plt.subplots()\n",
    "im = ax.imshow(-1*eq.profile['Frad'].F[0]*F_unit/(mass[114]*mass_unit), origin='lower',\n",
    "           extent=(np.amin(r)*m_unit, np.amax(r)*m_unit,\n",
    "                   np.amin(v*velocity_unit)-dv/2, np.amax(v*velocity_unit)-dv/2),\n",
    "           aspect='auto', cmap='viridis')\n",
    "# plt.text(-0.24,390, \"$\\Delta = -8.7\\\\;\\\\Gamma$\\n$I = 0.3\\\\;I_{sat}$\", verticalalignment='top', color='w')\n",
    "ax.set_xlabel(\"Position [m]\")\n",
    "ax.set_ylabel(\"Velocity [m/s]\")\n",
    "cb1 = plt.colorbar(im)\n",
    "cb1.set_label(\"Acceleration [m/s$^2$]\")\n",
    "plt.tight_layout()\n",
    "plt.show()"
   ]
  },
  {
   "cell_type": "code",
   "execution_count": 159,
   "metadata": {},
   "outputs": [
    {
     "ename": "TypeError",
     "evalue": "can't multiply sequence by non-int of type 'float'",
     "output_type": "error",
     "traceback": [
      "\u001b[1;31m---------------------------------------------------------------------------\u001b[0m",
      "\u001b[1;31mTypeError\u001b[0m                                 Traceback (most recent call last)",
      "\u001b[1;32m~\\AppData\\Local\\Temp\\ipykernel_22336\\593295488.py\u001b[0m in \u001b[0;36m<module>\u001b[1;34m\u001b[0m\n\u001b[1;32m----> 1\u001b[1;33m \u001b[0mpermMagnetsPylcp\u001b[0m\u001b[1;33m.\u001b[0m\u001b[0mField\u001b[0m\u001b[1;33m(\u001b[0m\u001b[1;33m(\u001b[0m\u001b[1;33m-\u001b[0m\u001b[1;36m0.15\u001b[0m\u001b[1;33m,\u001b[0m\u001b[1;36m0\u001b[0m\u001b[1;33m,\u001b[0m\u001b[1;36m0\u001b[0m\u001b[1;33m)\u001b[0m\u001b[1;33m)\u001b[0m\u001b[1;33m\u001b[0m\u001b[1;33m\u001b[0m\u001b[0m\n\u001b[0m",
      "\u001b[1;32mc:\\Users\\LP618\\Anaconda3\\lib\\site-packages\\pylcp-1.0.2-py3.9.egg\\pylcp\\fields.py\u001b[0m in \u001b[0;36m<lambda>\u001b[1;34m(R, t)\u001b[0m\n\u001b[0;32m     81\u001b[0m                 \u001b[0msig\u001b[0m \u001b[1;33m=\u001b[0m \u001b[1;34m'(R)'\u001b[0m\u001b[1;33m\u001b[0m\u001b[1;33m\u001b[0m\u001b[0m\n\u001b[0;32m     82\u001b[0m             \u001b[1;32melif\u001b[0m \u001b[1;33m(\u001b[0m\u001b[1;34m'(R, t)'\u001b[0m \u001b[1;32min\u001b[0m \u001b[0msig\u001b[0m \u001b[1;32mor\u001b[0m \u001b[1;34m'(r, t)'\u001b[0m \u001b[1;32min\u001b[0m \u001b[0msig\u001b[0m \u001b[1;32mor\u001b[0m \u001b[1;34m'(x, t)'\u001b[0m \u001b[1;32min\u001b[0m \u001b[0msig\u001b[0m\u001b[1;33m)\u001b[0m\u001b[1;33m:\u001b[0m\u001b[1;33m\u001b[0m\u001b[1;33m\u001b[0m\u001b[0m\n\u001b[1;32m---> 83\u001b[1;33m                 \u001b[0mfunc\u001b[0m \u001b[1;33m=\u001b[0m \u001b[1;32mlambda\u001b[0m \u001b[0mR\u001b[0m\u001b[1;33m=\u001b[0m\u001b[0mnp\u001b[0m\u001b[1;33m.\u001b[0m\u001b[0marray\u001b[0m\u001b[1;33m(\u001b[0m\u001b[1;33m[\u001b[0m\u001b[1;36m0.\u001b[0m\u001b[1;33m,\u001b[0m \u001b[1;36m0.\u001b[0m\u001b[1;33m,\u001b[0m \u001b[1;36m0.\u001b[0m\u001b[1;33m]\u001b[0m\u001b[1;33m)\u001b[0m\u001b[1;33m,\u001b[0m \u001b[0mt\u001b[0m\u001b[1;33m=\u001b[0m\u001b[1;36m0.\u001b[0m\u001b[1;33m:\u001b[0m \u001b[0mval\u001b[0m\u001b[1;33m(\u001b[0m\u001b[0mR\u001b[0m\u001b[1;33m,\u001b[0m \u001b[0mt\u001b[0m\u001b[1;33m)\u001b[0m\u001b[1;33m\u001b[0m\u001b[1;33m\u001b[0m\u001b[0m\n\u001b[0m\u001b[0;32m     84\u001b[0m                 \u001b[0msig\u001b[0m \u001b[1;33m=\u001b[0m \u001b[1;34m'(R, t)'\u001b[0m\u001b[1;33m\u001b[0m\u001b[1;33m\u001b[0m\u001b[0m\n\u001b[0;32m     85\u001b[0m             \u001b[1;32melif\u001b[0m \u001b[1;34m'(t)'\u001b[0m \u001b[1;32min\u001b[0m \u001b[0msig\u001b[0m\u001b[1;33m:\u001b[0m\u001b[1;33m\u001b[0m\u001b[1;33m\u001b[0m\u001b[0m\n",
      "\u001b[1;32mx:\\Cd_MOT_paper\\Cd-MOT\\MagnetsInterpolation.ipynb\u001b[0m in \u001b[0;36mfieldCartesian\u001b[1;34m(self, r, t)\u001b[0m\n\u001b[0;32m    138\u001b[0m     \u001b[1;34m\"            reader = csv.reader(csvfile, delimiter=',', quoting=csv.QUOTE_NONE)\\n\"\u001b[0m\u001b[1;33m,\u001b[0m\u001b[1;33m\u001b[0m\u001b[1;33m\u001b[0m\u001b[0m\n\u001b[0;32m    139\u001b[0m     \u001b[1;34m\"            strData =  [row for row in reader]\\n\"\u001b[0m\u001b[1;33m,\u001b[0m\u001b[1;33m\u001b[0m\u001b[1;33m\u001b[0m\u001b[0m\n\u001b[1;32m--> 140\u001b[1;33m     \u001b[1;34m\"\\n\"\u001b[0m\u001b[1;33m,\u001b[0m\u001b[1;33m\u001b[0m\u001b[1;33m\u001b[0m\u001b[0m\n\u001b[0m\u001b[0;32m    141\u001b[0m     \u001b[1;34m\"        self.bRadHeader = strData[0:8]\\n\"\u001b[0m\u001b[1;33m,\u001b[0m\u001b[1;33m\u001b[0m\u001b[1;33m\u001b[0m\u001b[0m\n\u001b[0;32m    142\u001b[0m     \u001b[1;34m\"        \\n\"\u001b[0m\u001b[1;33m,\u001b[0m\u001b[1;33m\u001b[0m\u001b[1;33m\u001b[0m\u001b[0m\n",
      "\u001b[1;31mTypeError\u001b[0m: can't multiply sequence by non-int of type 'float'"
     ]
    }
   ],
   "source": [
    "permMagnetsPylcp.Field((-0.15,0,0))"
   ]
  },
  {
   "cell_type": "code",
   "execution_count": 30,
   "metadata": {},
   "outputs": [
    {
     "data": {
      "text/plain": [
       "6.283185307179586"
      ]
     },
     "execution_count": 30,
     "metadata": {},
     "output_type": "execute_result"
    }
   ],
   "source": [
    "k*m_unit"
   ]
  },
  {
   "cell_type": "code",
   "execution_count": 305,
   "metadata": {},
   "outputs": [
    {
     "data": {
      "text/plain": [
       "['__class__',\n",
       " '__delattr__',\n",
       " '__dict__',\n",
       " '__dir__',\n",
       " '__doc__',\n",
       " '__eq__',\n",
       " '__format__',\n",
       " '__ge__',\n",
       " '__getattribute__',\n",
       " '__gt__',\n",
       " '__hash__',\n",
       " '__init__',\n",
       " '__init_subclass__',\n",
       " '__le__',\n",
       " '__lt__',\n",
       " '__module__',\n",
       " '__ne__',\n",
       " '__new__',\n",
       " '__reduce__',\n",
       " '__reduce_ex__',\n",
       " '__repr__',\n",
       " '__setattr__',\n",
       " '__sizeof__',\n",
       " '__slotnames__',\n",
       " '__str__',\n",
       " '__subclasshook__',\n",
       " '__weakref__',\n",
       " '_hamiltonian__add_new_row_and_column',\n",
       " '_hamiltonian__check_diagonal_submatrices_are_themselves_diagonal',\n",
       " '_hamiltonian__make_elem_label',\n",
       " '_hamiltonian__recompute_number_of_states',\n",
       " '_hamiltonian__search_elem_label',\n",
       " 'add_H_0_block',\n",
       " 'add_d_q_block',\n",
       " 'add_mu_q_block',\n",
       " 'block',\n",
       " 'blocks',\n",
       " 'diag_H_0',\n",
       " 'diag_static_field',\n",
       " 'diagonal',\n",
       " 'laser_keys',\n",
       " 'make_full_matrices',\n",
       " 'mass',\n",
       " 'n',\n",
       " 'ns',\n",
       " 'print_structure',\n",
       " 'return_full_H',\n",
       " 'set_mass',\n",
       " 'state_labels',\n",
       " 'vector_block']"
      ]
     },
     "execution_count": 305,
     "metadata": {},
     "output_type": "execute_result"
    }
   ],
   "source": [
    "dir(Hamiltonians[114])"
   ]
  },
  {
   "cell_type": "code",
   "execution_count": null,
   "metadata": {},
   "outputs": [],
   "source": []
  }
 ],
 "metadata": {
  "kernelspec": {
   "display_name": "base",
   "language": "python",
   "name": "python3"
  },
  "language_info": {
   "codemirror_mode": {
    "name": "ipython",
    "version": 3
   },
   "file_extension": ".py",
   "mimetype": "text/x-python",
   "name": "python",
   "nbconvert_exporter": "python",
   "pygments_lexer": "ipython3",
   "version": "3.9.13"
  },
  "orig_nbformat": 4,
  "vscode": {
   "interpreter": {
    "hash": "fb8b51e2fe4f2020b7e8532e39ffb5e71032207cdaec5b0ba3a5cea38b0b4195"
   }
  }
 },
 "nbformat": 4,
 "nbformat_minor": 2
}
