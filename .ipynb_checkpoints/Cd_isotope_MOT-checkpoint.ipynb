{
 "cells": [
  {
   "cell_type": "markdown",
   "metadata": {},
   "source": [
    "# Setup of Imports, Units and Parameters"
   ]
  },
  {
   "cell_type": "code",
   "execution_count": 1,
   "metadata": {},
   "outputs": [],
   "source": [
    "import ipynb\n",
    "import numpy as np\n",
    "import matplotlib.pyplot as plt\n",
    "import pylcp\n",
    "import scipy.constants as consts\n",
    "import lmfit\n",
    "from pylcp.common import progressBar\n",
    "import ast\n",
    "import csv\n",
    "import pickle\n",
    "from scipy.optimize import bisect\n",
    "from tqdm import tqdm\n",
    "from ipynb.fs.full.MagnetsInterpolation import ComsolMagCylindricalInterpolation_au as mi\n",
    "import inspect\n",
    "\n",
    "loadpath = \"./csv/\"\n",
    "savepath = \"./images/\""
   ]
  },
  {
   "cell_type": "markdown",
   "metadata": {},
   "source": [
    "# Parameters and units"
   ]
  },
  {
   "cell_type": "code",
   "execution_count": 75,
   "metadata": {},
   "outputs": [],
   "source": [
    "# Unit conversion factors\n",
    "k = 4369238.4 # m^-1\n",
    "Gamma = 95.9e6 # s^-1 | Lurio and Novick\n",
    "mu_B = 9.2740100783e-24 # JT^-1 = m^2A\n",
    "h = consts.h # Js = kgm^2s^-1\n",
    "\n",
    "# Base units\n",
    "time_unit = 1/Gamma # s\n",
    "# length_unit = 1/k # m\n",
    "length_unit = 1e-2\n",
    "mass_unit = h*time_unit/(length_unit**2) # kg\n",
    "# mass_unit = 1\n",
    "current_unit = mu_B/(length_unit**2) # A\n",
    "\n",
    "# Some useful compund units\n",
    "force_unit = mass_unit*length_unit/(time_unit**2) # N\n",
    "velocity_unit = length_unit/time_unit # m/s\n",
    "energy_unit = mass_unit*(length_unit**2)/(time_unit**2) # J\n",
    "power_unit = energy_unit/time_unit # W\n",
    "intensity_unit = power_unit/(length_unit**2) # W/m^2\n",
    "intensity_unit_cm = intensity_unit/(100**2) # W/cm^2\n",
    "tesla_unit = mass_unit/(current_unit*time_unit**2)\n",
    "gauss_unit = 10000*tesla_unit\n",
    "cm_unit = length_unit*100\n",
    "hertz_unit = 1/time_unit\n",
    "amu_unit = 1.66054e-27/mass_unit"
   ]
  },
  {
   "cell_type": "code",
   "execution_count": 96,
   "metadata": {},
   "outputs": [],
   "source": [
    "# laser parameters from Simon\n",
    "slower_beam_width = 0.5/cm_unit\n",
    "slower_I = 0.3/intensity_unit_cm\n",
    "slower_detuning = 0 # Placeholder\n",
    "MOT_detuning = -1.45*100e6/hertz_unit\n",
    "MOT_s = 2\n",
    "MOT_beam_width = 0.4/cm_unit\n",
    "Isat = 1.1/intensity_unit_cm\n",
    "slower_s = slower_I/Isat\n",
    "\n",
    "# Some parameters for the MOT\n",
    "# Mass taken from IAEA\n",
    "mass = {106 : 105.9064598/amu_unit, 108 : 107.9041836/amu_unit, 110 : 109.9030075/amu_unit, 111 : 110.9041838/amu_unit, 112 : 111.90276390/amu_unit, 113 : 112.90440811/amu_unit, 114 : 113.90336500/amu_unit, 116 : 115.90476323/amu_unit}\n",
    "abundance_data = {106 : 0.0125, 108 : 0.0089, 110 : 0.1249, 111 : 0.1280, 112 : 0.2413, 113 : 0.1222, 114 : 0.2873, 116 : 0.0749}\n",
    "isotope_shift_zero = 114\n",
    "Z = 48\n",
    "\n",
    "# Take isotope shift data from here: https://arxiv.org/pdf/2210.11425.pdf [Table II, this work]\n",
    "isotope_shifts = {106 : 1818.1e6/hertz_unit, 108 : 1336.5e6/hertz_unit, 110 : 865e6/hertz_unit, 111 : 805.0e6/hertz_unit, 112 : 407.5e6/hertz_unit, 113 : 344.9e6/hertz_unit, 114 : 0/hertz_unit, 116 : -316.1e6/hertz_unit}\n",
    "isotope_shift_hyperfine = {111 : (899.2e6 - 616.5e6)/hertz_unit, 113 : (443.4e6 - 147.8e6)/hertz_unit}"
   ]
  },
  {
   "cell_type": "code",
   "execution_count": 86,
   "metadata": {},
   "outputs": [
    {
     "name": "stdout",
     "output_type": "stream",
     "text": [
      "{106: 4.406670026250835e-09, 108: 4.4897934693988035e-09, 110: 4.572962686692231e-09, 111: 4.61462070831371e-09, 112: 4.656170704449833e-09, 113: 4.6978481953744686e-09, 114: 4.739413869394664e-09, 116: 4.8226902021829355e-09}\n",
      "{106: 18.958289885297184, 108: 13.936392075078206, 110: 9.019812304483837, 111: 8.394160583941606, 112: 4.249217935349322, 113: 3.596454640250261, 114: 0.0, 116: -3.2961418143899897}\n",
      "21.94890532867238\n"
     ]
    }
   ],
   "source": [
    "print(mass)\n",
    "print(isotope_shifts)\n",
    "print(velocity_unit)"
   ]
  },
  {
   "cell_type": "markdown",
   "metadata": {},
   "source": [
    "# Hamiltonians, magnetic fields and laser field generating functions"
   ]
  },
  {
   "cell_type": "markdown",
   "metadata": {},
   "source": [
    "## Hamiltonians"
   ]
  },
  {
   "cell_type": "code",
   "execution_count": 87,
   "metadata": {},
   "outputs": [],
   "source": [
    "# Hamiltonians\n",
    "ham_det = 0\n",
    "\n",
    "def gen_Boson_Hamiltonian(isotope = 114):\n",
    "    Hg, Bgq = pylcp.hamiltonians.singleF(F=0, gF=0, muB=1)\n",
    "    He, Beq = pylcp.hamiltonians.singleF(F=1, gF=1, muB=1)\n",
    "    dijq = pylcp.hamiltonians.dqij_two_bare_hyperfine(0, 1)\n",
    "    return pylcp.hamiltonian(Hg, He + (isotope_shifts[isotope] - ham_det)*np.eye(3), Bgq, Beq, dijq,mass=mass[isotope])\n",
    "\n",
    "def gen_Fermion_Hamiltonian(isotope = 111):\n",
    "    #Hamiltonian for F=1/2 -> F = 1/2,3/2 \n",
    "    HgFermion, BgqFermion = pylcp.hamiltonians.hyperfine_coupled(J=0, I=1/2, gJ=0, gI=0, Ahfs=0, Bhfs=0, Chfs=0, muB=1)\n",
    "    # HeFermion, BeqFermion = pylcp.hamiltonians.hyperfine_coupled(J=1, I=1/2, gJ=1, gI=0, Ahfs=2.2, Bhfs=0, Chfs=0, muB=1)\n",
    "    Ahfs = 2*isotope_shift_hyperfine[isotope]/3\n",
    "    HeFermion, BeqFermion = pylcp.hamiltonians.hyperfine_coupled(J=1, I=1/2, gJ=1, gI=0, Ahfs=Ahfs, Bhfs=0, Chfs=0, muB=1)\n",
    "    dijqFermion = pylcp.hamiltonians.dqij_two_hyperfine_manifolds(J=0, Jp=1, I=0.5)\n",
    "    return pylcp.hamiltonian(HgFermion, HeFermion + (isotope_shifts[isotope] - ham_det)*np.eye(6), BgqFermion, BeqFermion, dijqFermion,mass=mass[isotope])\n",
    "\n",
    "Hamiltonians = {}\n",
    "# Generate all Hamiltonians\n",
    "for key in mass.keys():\n",
    "    if (key in isotope_shift_hyperfine.keys()):\n",
    "        Hamiltonians[key] = gen_Fermion_Hamiltonian(key)\n",
    "        continue\n",
    "    Hamiltonians[key] = gen_Boson_Hamiltonian(key)"
   ]
  },
  {
   "cell_type": "markdown",
   "metadata": {},
   "source": [
    "## Magnets"
   ]
  },
  {
   "cell_type": "code",
   "execution_count": 88,
   "metadata": {},
   "outputs": [],
   "source": [
    "permMagnets=mi('./csv/2D_Br.csv', './csv/2D_Bz.csv', gammaMHz=Gamma/1e6, symmetry = -1, gauss_unit=gauss_unit, cm_unit = cm_unit)\n",
    "permMagnetsPylcp = pylcp.magField(permMagnets.fieldCartesian)"
   ]
  },
  {
   "cell_type": "markdown",
   "metadata": {},
   "source": [
    "## Check magnetic fields"
   ]
  },
  {
   "cell_type": "code",
   "execution_count": 89,
   "metadata": {},
   "outputs": [
    {
     "data": {
      "text/plain": [
       "[<matplotlib.lines.Line2D at 0x7fc3dfcde470>,\n",
       " <matplotlib.lines.Line2D at 0x7fc3dfcdd480>,\n",
       " <matplotlib.lines.Line2D at 0x7fc3dfcde3e0>]"
      ]
     },
     "execution_count": 89,
     "metadata": {},
     "output_type": "execute_result"
    },
    {
     "data": {
      "image/png": "[encoded data removed]",
      "text/plain": [
       "<Figure size 720x360 with 2 Axes>"
      ]
     },
     "metadata": {
      "needs_background": "light"
     },
     "output_type": "display_data"
    }
   ],
   "source": [
    "#Now if I make the radial and axial plots, they should still look as expected. Along the line y=-x, By =-Bx by symmetry.\n",
    "posns = np.arange(-20.0/cm_unit,20.0/cm_unit,0.02/cm_unit)\n",
    "fig, ax = plt.subplots(1,2,figsize=[10,5])\n",
    "ax[0].plot(posns*cm_unit,np.array([permMagnets.fieldCartesian(np.array([-i/np.sqrt(2),i/np.sqrt(2),0]),0) for i in posns])*gauss_unit)\n",
    "ax[1].plot(posns*cm_unit,np.array([permMagnets.fieldCartesian(np.array([0.0,0.0,i]),0) for i in posns])*gauss_unit)\n",
    "\n",
    "#checking that the pylcp still gets the same field profiles\n",
    "ax[0].plot(posns*cm_unit,np.array([permMagnetsPylcp.Field(np.array([-i/np.sqrt(2),i/np.sqrt(2),0]),0) for i in posns])*gauss_unit, 'k--')\n",
    "ax[1].plot(posns*cm_unit,np.array([permMagnetsPylcp.Field(np.array([0.0,0.0,i]),0) for i in posns])*gauss_unit, 'k--')"
   ]
  },
  {
   "cell_type": "markdown",
   "metadata": {},
   "source": [
    "## Laser fields"
   ]
  },
  {
   "cell_type": "code",
   "execution_count": 90,
   "metadata": {},
   "outputs": [],
   "source": [
    "def MOT_and_Slow_Beams(det_MOT, det_slower):\n",
    "    return pylcp.laserBeams([\n",
    "        {'kvec':np.array([-1/np.sqrt(2), -1/np.sqrt(2), 0.]), 'pol':-1, 'delta':0*MOT_detuning + det_MOT, 's':MOT_s,'wb':MOT_beam_width},\n",
    "        {'kvec':np.array([1/np.sqrt(2), 1/np.sqrt(2), 0.]), 'pol':-1, 'delta':0*MOT_detuning + det_MOT, 's':MOT_s,'wb':MOT_beam_width},\n",
    "        {'kvec':np.array([1/np.sqrt(2), -1/np.sqrt(2), 0.]), 'pol':-1, 'delta':0*MOT_detuning + det_MOT, 's':MOT_s,'wb':MOT_beam_width},\n",
    "        {'kvec':np.array([-1/np.sqrt(2), 1/np.sqrt(2), 0.]), 'pol':-1, 'delta':0*MOT_detuning + det_MOT, 's':MOT_s,'wb':MOT_beam_width},\n",
    "        {'kvec':np.array([0., 0.,  1.]), 'pol':+1, 'delta':0*MOT_detuning + det_MOT, 's':MOT_s,'wb':MOT_beam_width},\n",
    "        {'kvec':np.array([0., 0., -1.]), 'pol':+1, 'delta':0*MOT_detuning + det_MOT, 's':MOT_s,'wb':MOT_beam_width},\n",
    "        {'kvec':np.array([-1, 0., 0.]), 'pol':-1, 'delta':0*slower_detuning + det_slower, 's':slower_s,'wb':slower_beam_width}\n",
    "    ], beam_type=pylcp.gaussianBeam)\n",
    "\n",
    "def MOT_Beams(det_MOT, *args):\n",
    "    return pylcp.laserBeams([\n",
    "        {'kvec':np.array([-1/np.sqrt(2), -1/np.sqrt(2), 0.]), 'pol':-1, 'delta':0*MOT_detuning + det_MOT, 's':MOT_s,'wb':MOT_beam_width},\n",
    "        {'kvec':np.array([1/np.sqrt(2), 1/np.sqrt(2), 0.]), 'pol':-1, 'delta':0*MOT_detuning + det_MOT, 's':MOT_s,'wb':MOT_beam_width},\n",
    "        {'kvec':np.array([1/np.sqrt(2), -1/np.sqrt(2), 0.]), 'pol':-1, 'delta':0*MOT_detuning + det_MOT, 's':MOT_s,'wb':MOT_beam_width},\n",
    "        {'kvec':np.array([-1/np.sqrt(2), 1/np.sqrt(2), 0.]), 'pol':-1, 'delta':0*MOT_detuning + det_MOT, 's':MOT_s,'wb':MOT_beam_width},\n",
    "        {'kvec':np.array([0., 0.,  1.]), 'pol':+1, 'delta':0*MOT_detuning + det_MOT, 's':MOT_s,'wb':MOT_beam_width},\n",
    "        {'kvec':np.array([0., 0., -1.]), 'pol':+1, 'delta':0*MOT_detuning + det_MOT, 's':MOT_s,'wb':MOT_beam_width}\n",
    "    ], beam_type=pylcp.gaussianBeam)\n",
    "\n",
    "def MOT_Beams_infinite(det_MOT, *args):\n",
    "    return pylcp.laserBeams([\n",
    "        {'kvec':np.array([1., 0., 0.]), 'pol':-1, 'delta':0*MOT_detuning + det_MOT, 's':MOT_s},#,'wb':MOT_beam_width},\n",
    "        {'kvec':np.array([-1., 0., 0.]), 'pol':-1, 'delta':0*MOT_detuning + det_MOT, 's':MOT_s},#,'wb':MOT_beam_width},\n",
    "        {'kvec':np.array([0., 1., 0.]), 'pol':-1, 'delta':0*MOT_detuning + det_MOT, 's':MOT_s},#,'wb':MOT_beam_width},\n",
    "        {'kvec':np.array([0., -1., 0.]), 'pol':-1, 'delta':0*MOT_detuning + det_MOT, 's':MOT_s},#,'wb':MOT_beam_width},\n",
    "        {'kvec':np.array([0., 0.,  1.]), 'pol':+1, 'delta':0*MOT_detuning + det_MOT, 's':MOT_s},#,'wb':MOT_beam_width},\n",
    "        {'kvec':np.array([0., 0., -1.]), 'pol':+1, 'delta':0*MOT_detuning + det_MOT, 's':MOT_s},#,'wb':MOT_beam_width}\n",
    "    ], beam_type=pylcp.infinitePlaneWaveBeam)"
   ]
  },
  {
   "cell_type": "markdown",
   "metadata": {},
   "source": [
    "# Capture velocity simulations"
   ]
  },
  {
   "cell_type": "markdown",
   "metadata": {},
   "source": [
    "## Wrapper functions"
   ]
  },
  {
   "cell_type": "code",
   "execution_count": 91,
   "metadata": {},
   "outputs": [],
   "source": [
    "def captured_condition(t, y):\n",
    "    return (y[-6]**2 + y[-3]**2) - 1e-2/cm_unit\n",
    "\n",
    "def lost_condition(t, y):\n",
    "    return y[-3]-2/cm_unit\n",
    "\n",
    "def backwards_lost(t, y):\n",
    "    return y[-3] + 12/cm_unit\n",
    "\n",
    "captured_condition.terminal = True\n",
    "lost_condition.terminal = True\n",
    "backwards_lost.terminal = True\n",
    "\n",
    "def captureVelocityForEq(det_MOT, det_slower, ham, lasers = MOT_and_Slow_Beams):\n",
    "    print (f\"{det_MOT} {det_slower}\", end = '                                                                            \\r')\n",
    "    eq = pylcp.rateeq(lasers(det_MOT, det_slower),permMagnetsPylcp, ham,include_mag_forces=False)\n",
    "    try:\n",
    "        eq.set_initial_pop(np.array([1., 0., 0., 0.]))\n",
    "    except ValueError: # Quick and dirty solution to detect the two fermionic hamiltonians\n",
    "        eq.set_initial_pop(np.array([1., 0., 0., 0., 0., 0., 0., 0.]))\n",
    "    return findCaptureVelocity(np.array([-10,0,0]), eq)\n",
    "    \n",
    "\n",
    "def isCaptured(sol):\n",
    "    captured = -1\n",
    "    finalPosition = np.array([sol.r[i][-1] for i in range(3)])\n",
    "    finalVelocity = np.array([sol.v[i][-1] for i in range(3)]) \n",
    "    if (np.linalg.norm(finalPosition)**2 + np.linalg.norm(finalVelocity)**2 <1.1e-2):\n",
    "        #print('initial velocity: '+ str(sol.v[0][0]) +' captured')\n",
    "        captured = 1 \n",
    "    return captured\n",
    "\n",
    "def atomTrajectoryToMOT(v0, r0, eqn, tmax=10, max_step=1, **kwargs):\n",
    "    eqn.set_initial_position_and_velocity(r0, np.array([v0,0,0]))\n",
    "    eqn.evolve_motion([0., 10], events=[captured_condition,lost_condition,backwards_lost],\n",
    "                      max_step=max_step)\n",
    "\n",
    "    return isCaptured(eqn.sol)\n",
    "\n",
    "def findCaptureVelocity(r0,eqn):\n",
    "    if(atomTrajectoryToMOT(2, r0, eqn, tmax=10, max_step=1)==-1):\n",
    "        return 0\n",
    "    return bisect(atomTrajectoryToMOT,2, 15.,\n",
    "       args=(r0, eqn),\n",
    "       xtol=1e-3, rtol=1e-3, full_output=False)"
   ]
  },
  {
   "cell_type": "markdown",
   "metadata": {},
   "source": [
    "# Force curves"
   ]
  },
  {
   "cell_type": "code",
   "execution_count": 92,
   "metadata": {},
   "outputs": [],
   "source": [
    "rateeq = pylcp.rateeq(MOT_and_Slow_Beams(MOT_detuning,-10), permMagnetsPylcp, gen_Boson_Hamiltonian() ,include_mag_forces=False)"
   ]
  },
  {
   "cell_type": "code",
   "execution_count": 93,
   "metadata": {},
   "outputs": [
    {
     "name": "stdout",
     "output_type": "stream",
     "text": [
      "Completed in 0.08 s.                                                     \n"
     ]
    }
   ],
   "source": [
    "rateeq.set_initial_position_and_velocity(np.array([-8/cm_unit, 0., 0.]),np.array([100/velocity_unit, 0., 0.]))\n",
    "rateeq.set_initial_pop(np.array([1., 0., 0., 0.]))\n",
    "rateeq.evolve_motion([0., 1e-2/time_unit], events=[captured_condition, lost_condition, backwards_lost], progress_bar=True)\n",
    "sol = rateeq.sol"
   ]
  },
  {
   "cell_type": "code",
   "execution_count": 94,
   "metadata": {},
   "outputs": [
    {
     "name": "stdout",
     "output_type": "stream",
     "text": [
      "Completed in 40.23 s.                                               \n"
     ]
    }
   ],
   "source": [
    "r = np.linspace(-10/cm_unit, 10/cm_unit, 200)\n",
    "v = np.linspace(-300/velocity_unit, 300/velocity_unit, 200)\n",
    "\n",
    "R, V = np.meshgrid(r, v)\n",
    "rateeq.generate_force_profile([R, np.zeros(R.shape), np.zeros(R.shape)],\n",
    "                           [V, np.zeros(V.shape), np.zeros(V.shape)],\n",
    "                           name='Frad', progress_bar=True)"
   ]
  },
  {
   "cell_type": "code",
   "execution_count": 95,
   "metadata": {},
   "outputs": [
    {
     "data": {
      "text/plain": [
       "(-300.0, 300.0)"
      ]
     },
     "execution_count": 95,
     "metadata": {},
     "output_type": "execute_result"
    },
    {
     "data": {
      "image/png": "[encoded data removed]",
      "text/plain": [
       "<Figure size 432x288 with 2 Axes>"
      ]
     },
     "metadata": {
      "needs_background": "light"
     },
     "output_type": "display_data"
    }
   ],
   "source": [
    "fig, ax = plt.subplots(1, 1)\n",
    "ax.plot(sol.r[0]*cm_unit,sol.v[0]*velocity_unit,'b-')\n",
    "colormesh = ax.pcolormesh(R*cm_unit, V*velocity_unit, rateeq.profile['Frad'].F[0], cmap = 'viridis')\n",
    "cb1 = plt.colorbar(colormesh)\n",
    "cb1.set_label('$f(\\hbar k \\Gamma)$')\n",
    "ax.set_xlabel('$x$ (cm)')\n",
    "ax.set_ylabel('$v(m/s)$')\n",
    "fig.subplots_adjust(left=0.12,right=0.9)\n",
    "ax.set_xlim([-10,10])\n",
    "ax.set_ylim([-300,300])"
   ]
  },
  {
   "cell_type": "markdown",
   "metadata": {},
   "source": [
    "## Run for capture vels"
   ]
  },
  {
   "cell_type": "code",
   "execution_count": null,
   "metadata": {},
   "outputs": [],
   "source": [
    "MOT_range = np.linspace(MOT_detuning - 1e9/hertz_unit,MOT_detuning + 1e9/hertz_unit,401)\n",
    "slower_range = np.linspace(-10,10,2)"
   ]
  },
  {
   "cell_type": "code",
   "execution_count": 302,
   "metadata": {},
   "outputs": [
    {
     "name": "stdout",
     "output_type": "stream",
     "text": [
      "\n",
      "114:\n",
      "8.915537017726798 10.0                                                                                \r"
     ]
    }
   ],
   "source": [
    "capture_data = {}\n",
    "\n",
    "for i, shift in isotope_shifts.items():\n",
    "    if (i!=114):\n",
    "        continue\n",
    "    print (f\"\\n{i}:\")\n",
    "    capture_data[i] =  [[captureVelocityForEq(dMOT, dSlow, Hamiltonians[i]) for dMOT in MOT_range] for dSlow in slower_range]"
   ]
  },
  {
   "cell_type": "code",
   "execution_count": 303,
   "metadata": {},
   "outputs": [
    {
     "data": {
      "text/plain": [
       "<matplotlib.colorbar.Colorbar at 0x1fba2aef010>"
      ]
     },
     "execution_count": 303,
     "metadata": {},
     "output_type": "execute_result"
    },
    {
     "data": {
      "image/png": "[encoded data removed]",
      "text/plain": [
       "<Figure size 640x480 with 2 Axes>"
      ]
     },
     "metadata": {},
     "output_type": "display_data"
    }
   ],
   "source": [
    "to_be_plotted = None\n",
    "\n",
    "for i, cap_data in capture_data.items():\n",
    "    if to_be_plotted is None:\n",
    "        to_be_plotted = abundance_data[i]*0 + np.array(cap_data)\n",
    "        continue\n",
    "    to_be_plotted += abundance_data[i]*0 + np.array(cap_data)\n",
    "    \n",
    "\n",
    "plt.pcolormesh(*np.meshgrid(MOT_range*hertz_unit/1e9, slower_range*hertz_unit/1e9), to_be_plotted*velocity_unit, cmap = 'gnuplot')\n",
    "plt.colorbar()"
   ]
  },
  {
   "cell_type": "code",
   "execution_count": null,
   "metadata": {},
   "outputs": [],
   "source": []
  }
 ],
 "metadata": {
  "kernelspec": {
   "display_name": "default",
   "language": "python",
   "name": "default"
  },
  "language_info": {
   "codemirror_mode": {
    "name": "ipython",
    "version": 3
   },
   "file_extension": ".py",
   "mimetype": "text/x-python",
   "name": "python",
   "nbconvert_exporter": "python",
   "pygments_lexer": "ipython3",
   "version": "3.10.6"
  },
  "vscode": {
   "interpreter": {
    "hash": "7a10ab3fcab11e3e9acc2a40f36a659bcdb9403ad79a57e5b2e00e2a822d9a07"
   }
  }
 },
 "nbformat": 4,
 "nbformat_minor": 4
}
